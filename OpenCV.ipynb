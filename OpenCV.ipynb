{
 "cells": [
  {
   "cell_type": "markdown",
   "metadata": {},
   "source": [
    "**How to Read, Write, Show images from Camera in OpenCV**"
   ]
  },
  {
   "cell_type": "markdown",
   "metadata": {},
   "source": [
    "        Flag\t           Integer value\t  Description\n",
    "    cv2.IMREAD_COLOR()          1\t         loads a color image\n",
    "    cv2.IMREAD_GRAYSCALE()      0             loads a image in grayscale mode\t\n",
    "\tcv2.IMREAD_UNCHANGED()\t -1             loads as such including alpha channel"
   ]
  },
  {
   "cell_type": "code",
   "execution_count": 1,
   "metadata": {},
   "outputs": [],
   "source": [
    "#importing open cv library\n",
    "import cv2\n",
    "img= cv2.imread('lena.jpg', 0) #storing the image into img variable, flag 0 is used  to load the image in grayscale mode\n",
    "\n",
    "cv2.imshow('image',img) #to show the image on the screen\n",
    "k=cv2.waitKey(0) #let's set the waitKey to close window button\n",
    "if k==13: #13 is enter key\n",
    "    cv2.destroyAllWindows()\n",
    "elif k==ord('s'): #to save the image on press of 's' key\n",
    "    cv2.imwrite('lena_copy.png', img)\n",
    "cv2.destroyAllWindows()"
   ]
  },
  {
   "cell_type": "markdown",
   "metadata": {},
   "source": [
    "**How to Read, Write, Show Videos from Camera in OpenCV***"
   ]
  },
  {
   "cell_type": "code",
   "execution_count": 2,
   "metadata": {},
   "outputs": [
    {
     "name": "stdout",
     "output_type": "stream",
     "text": [
      "True\n",
      "480.0\n",
      "640.0\n"
     ]
    }
   ],
   "source": [
    "import cv2\n",
    "import numpy as np\n",
    "import datetime\n",
    "\n",
    "cap = cv2.VideoCapture(0) #this will be index of your device camera- (0 or -1). \n",
    "                            #you can also give the existing video path\n",
    "fourcc=cv2.VideoWriter_fourcc(*'XVID') #this is used to save the video.\n",
    "out= cv2.VideoWriter('output.avi', fourcc, 20.0, (640,480))\n",
    "\n",
    "print(cap.isOpened())\n",
    "while (True):\n",
    "    ret,frame = cap.read() #the read() method will return true/false in ret variable if the frame is available on start of video.\n",
    "                                #this will capture the video in 'frame' variable\n",
    "    if ret == True:\n",
    "        #let's print the height and width of the frame      \n",
    "        print(cap.get(cv2.CAP_PROP_FRAME_HEIGHT))\n",
    "        print(cap.get(cv2.CAP_PROP_FRAME_WIDTH))\n",
    "        \n",
    "        #let's put some text on the video-we are printing current date and time in this case.\n",
    "        Frame=cv2.putText(frame,str(datetime.datetime.now()),(10,50),cv2.FONT_HERSHEY_COMPLEX,1,(255,255,0),2,cv2.LINE_AA)\n",
    "        \n",
    "        out.write(frame)\n",
    "        \n",
    "        gray=cv2.cvtColor(frame,cv2.COLOR_BGR2GRAY)\n",
    "        cv2.imshow('Video',gray)\n",
    "        \n",
    "        if cv2.waitKey(0)== ord('q'):\n",
    "            break\n",
    "    else:\n",
    "        break\n",
    "cap.release()\n",
    "out.release()\n",
    "cv2.destroyAllWindows()\n"
   ]
  },
  {
   "cell_type": "markdown",
   "metadata": {},
   "source": [
    "**Draw geometric shapes on images using Python OpenCV**"
   ]
  },
  {
   "cell_type": "code",
   "execution_count": 3,
   "metadata": {},
   "outputs": [],
   "source": [
    "import cv2\n",
    "import numpy as np\n",
    "\n",
    "#read existing image using openCV imread method\n",
    "img=cv2.imread('lena.jpg',1) \n",
    "\n",
    "#create a image(black frame) using numpy array-provide height,width of the frame.\n",
    "#img=np.zeros([512,512,3])\n",
    " \n",
    "#create a image(white frame) using numpy array\n",
    "#img=np.ones([512,512,3])\n",
    "\n",
    "#Straight Line\n",
    "img=cv2.line(img,(0,0),(255,255),(0,0,255),10) #B-G-R format\n",
    "\n",
    "#Arrowed Line\n",
    "img=cv2.arrowedLine(img,(0,255),(255,255),(255,0,0),10)\n",
    "\n",
    "#rectangle\n",
    "img=cv2.rectangle(img,(380,0),(510,120),(0,255,0),5)\n",
    "\n",
    "#Circle-> -1 will fill the circle with specified color. Blue in this case\n",
    "img=cv2.circle(img,(447,63),63,(255,0,0),-1) \n",
    "\n",
    "#put Text onto the image\n",
    "img=cv2.putText(img,'OpenCv',(20,400),cv2.FONT_HERSHEY_COMPLEX,4,(255,255,0),10,cv2.LINE_AA)\n",
    "\n",
    "cv2.imshow('image',img)\n",
    "cv2.waitKey(0)\n",
    "cv2.destroyAllWindows()"
   ]
  },
  {
   "cell_type": "markdown",
   "metadata": {},
   "source": [
    "**How to  Handle Mouse Events in OpenCV**"
   ]
  },
  {
   "cell_type": "code",
   "execution_count": 27,
   "metadata": {},
   "outputs": [
    {
     "name": "stdout",
     "output_type": "stream",
     "text": [
      "EVENT_FLAG_ALTKEY\n",
      "EVENT_FLAG_CTRLKEY\n",
      "EVENT_FLAG_LBUTTON\n",
      "EVENT_FLAG_MBUTTON\n",
      "EVENT_FLAG_RBUTTON\n",
      "EVENT_FLAG_SHIFTKEY\n",
      "EVENT_LBUTTONDBLCLK\n",
      "EVENT_LBUTTONDOWN\n",
      "EVENT_LBUTTONUP\n",
      "EVENT_MBUTTONDBLCLK\n",
      "EVENT_MBUTTONDOWN\n",
      "EVENT_MBUTTONUP\n",
      "EVENT_MOUSEHWHEEL\n",
      "EVENT_MOUSEMOVE\n",
      "EVENT_MOUSEWHEEL\n",
      "EVENT_RBUTTONDBLCLK\n",
      "EVENT_RBUTTONDOWN\n",
      "EVENT_RBUTTONUP\n",
      "78 , 231\n",
      "388 , 150\n",
      "381 , 199\n",
      "355 , 237\n"
     ]
    }
   ],
   "source": [
    "import numpy as np\n",
    "import cv2\n",
    "        \n",
    "img=cv2.imread('lena.jpg')\n",
    "\n",
    "def click_event(event,x,y,flags,param):\n",
    "    if event == cv2.EVENT_LBUTTONDOWN:\n",
    "        print(x,',',y) #printing x,y cordinates of button click\n",
    "        cv2.putText(img,(str(x)+','+str(y)),(x,y),cv2.FONT_HERSHEY_COMPLEX,.5,(255,255,0),2)\n",
    "        cv2.imshow('image',img)\n",
    "    if event==cv2.EVENT_RBUTTONDOWN:\n",
    "        blue=img[y,x,0]\n",
    "        green=img[y,x,1]\n",
    "        red=img[y,x,2]\n",
    "        strBGR=str(blue)+','+str(green)+','+str(red)\n",
    "        cv2.putText(img,strBGR,(x,y),cv2.FONT_HERSHEY_COMPLEX,.5,(0,255,255),2)\n",
    "        cv2.imshow('image',img)                   \n",
    "\n",
    "cv2.imshow('image',img)\n",
    "                    \n",
    "cv2.setMouseCallback('image', click_event)\n",
    "                    \n",
    "cv2.waitKey(0)\n",
    "cv2.destroyAllWindows()"
   ]
  },
  {
   "cell_type": "code",
   "execution_count": 28,
   "metadata": {},
   "outputs": [
    {
     "name": "stdout",
     "output_type": "stream",
     "text": [
      "EVENT_FLAG_ALTKEY\n",
      "EVENT_FLAG_CTRLKEY\n",
      "EVENT_FLAG_LBUTTON\n",
      "EVENT_FLAG_MBUTTON\n",
      "EVENT_FLAG_RBUTTON\n",
      "EVENT_FLAG_SHIFTKEY\n",
      "EVENT_LBUTTONDBLCLK\n",
      "EVENT_LBUTTONDOWN\n",
      "EVENT_LBUTTONUP\n",
      "EVENT_MBUTTONDBLCLK\n",
      "EVENT_MBUTTONDOWN\n",
      "EVENT_MBUTTONUP\n",
      "EVENT_MOUSEHWHEEL\n",
      "EVENT_MOUSEMOVE\n",
      "EVENT_MOUSEWHEEL\n",
      "EVENT_RBUTTONDBLCLK\n",
      "EVENT_RBUTTONDOWN\n",
      "EVENT_RBUTTONUP\n"
     ]
    }
   ],
   "source": [
    "#to check the mouse events in CV2\n",
    "for i in dir(cv2):\n",
    "    if 'EVENT' in i:\n",
    "        print(i)"
   ]
  },
  {
   "cell_type": "code",
   "execution_count": 31,
   "metadata": {},
   "outputs": [
    {
     "name": "stdout",
     "output_type": "stream",
     "text": [
      "Shape of the image is(rows,columns,channels): (512, 512, 3)\n",
      "total no of pixels: 786432\n",
      "datatype of image: uint8\n"
     ]
    }
   ],
   "source": [
    "import numpy as np\n",
    "import cv2\n",
    "        \n",
    "img=cv2.imread('lena.jpg')\n",
    "print(\"Shape of the image is(rows,columns,channels):\",img.shape)\n",
    "print(\"total no of pixels:\",img.size)\n",
    "print(\"datatype of image:\",img.dtype)\n"
   ]
  },
  {
   "cell_type": "code",
   "execution_count": null,
   "metadata": {},
   "outputs": [],
   "source": []
  }
 ],
 "metadata": {
  "kernelspec": {
   "display_name": "Python 3",
   "language": "python",
   "name": "python3"
  },
  "language_info": {
   "codemirror_mode": {
    "name": "ipython",
    "version": 3
   },
   "file_extension": ".py",
   "mimetype": "text/x-python",
   "name": "python",
   "nbconvert_exporter": "python",
   "pygments_lexer": "ipython3",
   "version": "3.7.3"
  }
 },
 "nbformat": 4,
 "nbformat_minor": 2
}
